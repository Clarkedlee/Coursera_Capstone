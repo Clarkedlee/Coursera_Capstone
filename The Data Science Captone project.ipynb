{
    "cells": [
        {
            "cell_type": "markdown",
            "metadata": {
                "collapsed": true
            },
            "source": "# Data Science Captone Project\n## Introduction:\nThis project is the final project of the **IBM Data Science** course. \n\nAll the major task of the Project will carry out and recorded in this notebook. It is the workplace for the whole project.\nThis is project will be share throughout the Github platform. "
        },
        {
            "cell_type": "markdown",
            "metadata": {},
            "source": "## The first Task of the Project\n1. Write some markdown to explain that this notebook will be mainly used for the capstone project.\n2. Import the pandas library as pd.\n3. Import the Numpy library as np.\n4. Print the following the statement: Hello Capstone Project Course!"
        },
        {
            "cell_type": "code",
            "execution_count": 2,
            "metadata": {},
            "outputs": [],
            "source": "#*************** Setup the Project Enviroment *****************  \n\n\"\"\" Install all necessary framework\n    import all necessary component for the Project\n\"\"\"\nimport pandas as pd\nimport numpy as np\n"
        },
        {
            "cell_type": "code",
            "execution_count": 6,
            "metadata": {},
            "outputs": [
                {
                    "name": "stdout",
                    "output_type": "stream",
                    "text": "Hello Capstone Project Course!\n__main__\n"
                }
            ],
            "source": "#********** Main Code Body ****************\n\nprint(\"Hello Capstone Project Course!\")\n\nprint(__name__)"
        },
        {
            "cell_type": "code",
            "execution_count": null,
            "metadata": {},
            "outputs": [],
            "source": ""
        }
    ],
    "metadata": {
        "kernelspec": {
            "display_name": "Python 3.7",
            "language": "python",
            "name": "python3"
        },
        "language_info": {
            "codemirror_mode": {
                "name": "ipython",
                "version": 3
            },
            "file_extension": ".py",
            "mimetype": "text/x-python",
            "name": "python",
            "nbconvert_exporter": "python",
            "pygments_lexer": "ipython3",
            "version": "3.7.10"
        }
    },
    "nbformat": 4,
    "nbformat_minor": 1
}