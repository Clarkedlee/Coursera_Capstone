{
    "cells": [
        {
            "cell_type": "markdown",
            "metadata": {
                "collapsed": true
            },
            "source": "<center>\n    <img src=\"https://cf-courses-data.s3.us.cloud-object-storage.appdomain.cloud/IBMDeveloperSkillsNetwork-DA0101EN-SkillsNetwork/labs/Module%205/images/IDSNlogo.png\" width=\"300\" alt=\"cognitiveclass.ai logo\"  />\n</center>\n\n# Data Science Captone Project\n## Introduction:\nThis project is the final project of the **IBM Data Science** course. \n\nAll the major task of the Project will carry out and recorded in this notebook. It is the workplace for the whole project.\nThis is project will be share throughout the Github platform. "
        },
        {
            "cell_type": "markdown",
            "metadata": {},
            "source": "## The first Task of the Project\n1. Write some markdown to explain that this notebook will be mainly used for the capstone project.\n2. Import the pandas library as pd.\n3. Import the Numpy library as np.\n4. Print the following the statement: Hello Capstone Project Course!"
        },
        {
            "cell_type": "code",
            "execution_count": 2,
            "metadata": {},
            "outputs": [],
            "source": "#*************** Setup the Project Enviroment *****************  \n\n\"\"\" Install all necessary framework\n    import all necessary component for the Project\n\"\"\"\nimport pandas as pd\nimport numpy as np\n"
        },
        {
            "cell_type": "code",
            "execution_count": 6,
            "metadata": {},
            "outputs": [
                {
                    "name": "stdout",
                    "output_type": "stream",
                    "text": "Hello Capstone Project Course!\n__main__\n"
                }
            ],
            "source": "#********** Main Code Body ****************\n\nprint(\"Hello Capstone Project Course!\")\n\nprint(__name__)"
        },
        {
            "cell_type": "markdown",
            "metadata": {},
            "source": "***\n\n# Part 2 The Battle of Neighborhoods (Week 1)\n\n# Open A New Restaurant in Auckland(NZ) \n\n## Introduction:\n\nSet up a new business is complicated and full of challenges, especially for opening a new restaurant. Because there are many different types of cuisine, and the industry is very localised, almost all the business is from residences of nearby neighbourhoods. Once the restaurant started, and the people from local don't like the ideas, there won\u2019t be easy to change to gain customer acceptance again. Then the investor will possibly suffer a considerable loss. To avoid the worst-case scenario, the investor should carry out an initial investigation is essential. The investigation has to be able to answer these questions; \u201cWhere should I open a new Restaurant? What kind of restaurant should I do?\u201d. However, it could be very clueless for the business investors to evaluate, especially those who had never worked in the catering industry. Therefore, most of the investors only depend on ideas from the business broker or the information provided from the other people food serveries sector, without having a complete picture of their own. Hence, the business investment become gambling.\n\nThis project aims to use Data Science methodology and its tools to answer those questions mentioned above for the new investor in Auckland(New Zealand). Hopefully, it will find out the best cuisine, which is likely successful in each suburb within the great Auckland region. This study will work on the data on the existing restaurants in terms of popularity in each suburb. Then, using those findings,  cross-examine against demographic data of Auckland, such as ethnicity distribution and household income,  work out the relationship between them.\n\nFinally, there will be a recommendation list of cuisine for each suburb.\n\n\n\n\n\n### The methdologic\n\nThe methodologic of this study is using the most updated rank of the restaurant to find out the preferable cuisine in Auckland. And then, use this finding to create a model with machine learning and check whether there is a relationship between the restaurant and suburb demographic data. Eventually, use all the output to produce suggestions and recommendations.\n\n***\n\n### Data collection and Data Processing\n\n\nThe data is going to be used in this study including its usage is explained in detail as shown below:\n\n1. Scrape demographics data of Auckland from Wikipedia.\n   * \"https://en.wikipedia.org/wiki/Demographics_of_Auckland # Demographics of Auckland\"/n\n   * \"https://en.wikipedia.org/wiki/List_of_suburbs_of_Auckland  # List of Suburd Auckland\"\n   * Produce list of suburb in the each local board of Auckland.\n   * Find coordination of suburb in the list.\n   * Find demograhic infomation about each suburbs in terms of its population, ethnicity, and income etc.\n   * Create dataframe for the suburb include the name, coordination, district and other factor mentioned above.\n   \nOn the List of Suburbs of Auckland Wikipedia page, their table includes the name of the local board(Borough) and the suburb under each of the local boards. This name of suburbs could be scrape loaded into the table and use for getting the coordination from the Google Maps server. The Demographic of Auckland stores the demographic data which is from the Auckland Census Data(2018). These data include ethnicity and household income, which are perfect for relationship analysis between restaurants and suburbs.    \n\n2. Use Existing in each suburb of Auckland. These kind of data will be found from the foursquare API. \n   \n   * Preprocess the data about restrautant, record their suburb, name and rank.\n   * Determind the number type of cuisine, and average the number of cuisine and the average score of it.\n   * Rank the best most popular of cuisine and their charcteristic.\n   \nIn this step, using the coordination of each suburb to find the restaurant in each suburb, and then find the top restaurant among them. There will be classification and analysation for the type of cuisine with the name of the restaurants. The outcome of the analysis should be the popularity of cuisine and the number of restaurants in each category. This information will determine which cuisine has more acceptance for Aucklanders. By comparison of the popularity of cuisine in high Auckland with the one each suburb, it is very likely to see what popular restaurant has reasonable successful in each suburb.\n\n***\n\n\n\n\n\n\n"
        },
        {
            "cell_type": "markdown",
            "metadata": {},
            "source": "## Setup the Notebook enviroment\nDownload and import the neccessory componets and library for project enviroment. "
        },
        {
            "cell_type": "code",
            "execution_count": 1,
            "metadata": {},
            "outputs": [],
            "source": "# The code was removed by Watson Studio for sharing."
        },
        {
            "cell_type": "code",
            "execution_count": 2,
            "metadata": {},
            "outputs": [
                {
                    "name": "stdout",
                    "output_type": "stream",
                    "text": "/opt/conda/envs/Python-3.7-main/lib/python3.7/site-packages/secretstorage/dhcrypto.py:16: CryptographyDeprecationWarning: int_from_bytes is deprecated, use int.from_bytes instead\n  from cryptography.utils import int_from_bytes\n/opt/conda/envs/Python-3.7-main/lib/python3.7/site-packages/secretstorage/util.py:25: CryptographyDeprecationWarning: int_from_bytes is deprecated, use int.from_bytes instead\n  from cryptography.utils import int_from_bytes\nCollecting folium\n  Downloading folium-0.12.1-py2.py3-none-any.whl (94 kB)\n\u001b[K     |\u2588\u2588\u2588\u2588\u2588\u2588\u2588\u2588\u2588\u2588\u2588\u2588\u2588\u2588\u2588\u2588\u2588\u2588\u2588\u2588\u2588\u2588\u2588\u2588\u2588\u2588\u2588\u2588\u2588\u2588\u2588\u2588| 94 kB 7.6 MB/s  eta 0:00:01\n\u001b[?25hCollecting branca>=0.3.0\n  Downloading branca-0.4.2-py3-none-any.whl (24 kB)\nRequirement already satisfied: numpy in /opt/conda/envs/Python-3.7-main/lib/python3.7/site-packages (from folium) (1.18.5)\nRequirement already satisfied: requests in /opt/conda/envs/Python-3.7-main/lib/python3.7/site-packages (from folium) (2.24.0)\nRequirement already satisfied: jinja2>=2.9 in /opt/conda/envs/Python-3.7-main/lib/python3.7/site-packages (from folium) (2.11.3)\nRequirement already satisfied: certifi>=2017.4.17 in /opt/conda/envs/Python-3.7-main/lib/python3.7/site-packages (from requests->folium) (2021.5.30)\nRequirement already satisfied: chardet<4,>=3.0.2 in /opt/conda/envs/Python-3.7-main/lib/python3.7/site-packages (from requests->folium) (3.0.4)\nRequirement already satisfied: urllib3!=1.25.0,!=1.25.1,<1.26,>=1.21.1 in /opt/conda/envs/Python-3.7-main/lib/python3.7/site-packages (from requests->folium) (1.25.9)\nRequirement already satisfied: idna<3,>=2.5 in /opt/conda/envs/Python-3.7-main/lib/python3.7/site-packages (from requests->folium) (2.9)\nRequirement already satisfied: MarkupSafe>=0.23 in /opt/conda/envs/Python-3.7-main/lib/python3.7/site-packages (from jinja2>=2.9->folium) (1.1.1)\nInstalling collected packages: branca, folium\nSuccessfully installed branca-0.4.2 folium-0.12.1\n/opt/conda/envs/Python-3.7-main/lib/python3.7/site-packages/secretstorage/dhcrypto.py:16: CryptographyDeprecationWarning: int_from_bytes is deprecated, use int.from_bytes instead\n  from cryptography.utils import int_from_bytes\n/opt/conda/envs/Python-3.7-main/lib/python3.7/site-packages/secretstorage/util.py:25: CryptographyDeprecationWarning: int_from_bytes is deprecated, use int.from_bytes instead\n  from cryptography.utils import int_from_bytes\nCollecting geocoder\n  Downloading geocoder-1.38.1-py2.py3-none-any.whl (98 kB)\n\u001b[K     |\u2588\u2588\u2588\u2588\u2588\u2588\u2588\u2588\u2588\u2588\u2588\u2588\u2588\u2588\u2588\u2588\u2588\u2588\u2588\u2588\u2588\u2588\u2588\u2588\u2588\u2588\u2588\u2588\u2588\u2588\u2588\u2588| 98 kB 13.3 MB/s eta 0:00:01\n\u001b[?25hRequirement already satisfied: six in /opt/conda/envs/Python-3.7-main/lib/python3.7/site-packages (from geocoder) (1.15.0)\nRequirement already satisfied: requests in /opt/conda/envs/Python-3.7-main/lib/python3.7/site-packages (from geocoder) (2.24.0)\nCollecting ratelim\n  Downloading ratelim-0.1.6-py2.py3-none-any.whl (4.0 kB)\nRequirement already satisfied: future in /opt/conda/envs/Python-3.7-main/lib/python3.7/site-packages (from geocoder) (0.18.2)\nRequirement already satisfied: click in /opt/conda/envs/Python-3.7-main/lib/python3.7/site-packages (from geocoder) (7.1.2)\nRequirement already satisfied: urllib3!=1.25.0,!=1.25.1,<1.26,>=1.21.1 in /opt/conda/envs/Python-3.7-main/lib/python3.7/site-packages (from requests->geocoder) (1.25.9)\nRequirement already satisfied: certifi>=2017.4.17 in /opt/conda/envs/Python-3.7-main/lib/python3.7/site-packages (from requests->geocoder) (2021.5.30)\nRequirement already satisfied: idna<3,>=2.5 in /opt/conda/envs/Python-3.7-main/lib/python3.7/site-packages (from requests->geocoder) (2.9)\nRequirement already satisfied: chardet<4,>=3.0.2 in /opt/conda/envs/Python-3.7-main/lib/python3.7/site-packages (from requests->geocoder) (3.0.4)\nRequirement already satisfied: decorator in /opt/conda/envs/Python-3.7-main/lib/python3.7/site-packages (from ratelim->geocoder) (4.4.2)\nInstalling collected packages: ratelim, geocoder\nSuccessfully installed geocoder-1.38.1 ratelim-0.1.6\n/opt/conda/envs/Python-3.7-main/lib/python3.7/site-packages/secretstorage/dhcrypto.py:16: CryptographyDeprecationWarning: int_from_bytes is deprecated, use int.from_bytes instead\n  from cryptography.utils import int_from_bytes\n/opt/conda/envs/Python-3.7-main/lib/python3.7/site-packages/secretstorage/util.py:25: CryptographyDeprecationWarning: int_from_bytes is deprecated, use int.from_bytes instead\n  from cryptography.utils import int_from_bytes\nRequirement already satisfied: geopy in /opt/conda/envs/Python-3.7-main/lib/python3.7/site-packages (2.0.0)\nRequirement already satisfied: geographiclib<2,>=1.49 in /opt/conda/envs/Python-3.7-main/lib/python3.7/site-packages (from geopy) (1.50)\n/opt/conda/envs/Python-3.7-main/lib/python3.7/site-packages/secretstorage/dhcrypto.py:16: CryptographyDeprecationWarning: int_from_bytes is deprecated, use int.from_bytes instead\n  from cryptography.utils import int_from_bytes\n/opt/conda/envs/Python-3.7-main/lib/python3.7/site-packages/secretstorage/util.py:25: CryptographyDeprecationWarning: int_from_bytes is deprecated, use int.from_bytes instead\n  from cryptography.utils import int_from_bytes\nCollecting geopandas\n  Downloading geopandas-0.9.0-py2.py3-none-any.whl (994 kB)\n\u001b[K     |\u2588\u2588\u2588\u2588\u2588\u2588\u2588\u2588\u2588\u2588\u2588\u2588\u2588\u2588\u2588\u2588\u2588\u2588\u2588\u2588\u2588\u2588\u2588\u2588\u2588\u2588\u2588\u2588\u2588\u2588\u2588\u2588| 994 kB 22.4 MB/s eta 0:00:01\n\u001b[?25hCollecting shapely>=1.6\n  Downloading Shapely-1.7.1-cp37-cp37m-manylinux1_x86_64.whl (1.0 MB)\n\u001b[K     |\u2588\u2588\u2588\u2588\u2588\u2588\u2588\u2588\u2588\u2588\u2588\u2588\u2588\u2588\u2588\u2588\u2588\u2588\u2588\u2588\u2588\u2588\u2588\u2588\u2588\u2588\u2588\u2588\u2588\u2588\u2588\u2588| 1.0 MB 71.9 MB/s eta 0:00:01\n\u001b[?25hRequirement already satisfied: pandas>=0.24.0 in /opt/conda/envs/Python-3.7-main/lib/python3.7/site-packages (from geopandas) (1.0.5)\nCollecting fiona>=1.8\n  Downloading Fiona-1.8.20-cp37-cp37m-manylinux1_x86_64.whl (15.4 MB)\n\u001b[K     |\u2588\u2588\u2588\u2588\u2588\u2588\u2588\u2588\u2588\u2588\u2588\u2588\u2588\u2588\u2588\u2588\u2588\u2588\u2588\u2588\u2588\u2588\u2588\u2588\u2588\u2588\u2588\u2588\u2588\u2588\u2588\u2588| 15.4 MB 31.3 MB/s eta 0:00:01\n\u001b[?25hCollecting pyproj>=2.2.0\n  Downloading pyproj-3.1.0-cp37-cp37m-manylinux2010_x86_64.whl (6.6 MB)\n\u001b[K     |\u2588\u2588\u2588\u2588\u2588\u2588\u2588\u2588\u2588\u2588\u2588\u2588\u2588\u2588\u2588\u2588\u2588\u2588\u2588\u2588\u2588\u2588\u2588\u2588\u2588\u2588\u2588\u2588\u2588\u2588\u2588\u2588| 6.6 MB 24.8 MB/s eta 0:00:01\n\u001b[?25hRequirement already satisfied: numpy>=1.13.3 in /opt/conda/envs/Python-3.7-main/lib/python3.7/site-packages (from pandas>=0.24.0->geopandas) (1.18.5)\nRequirement already satisfied: python-dateutil>=2.6.1 in /opt/conda/envs/Python-3.7-main/lib/python3.7/site-packages (from pandas>=0.24.0->geopandas) (2.8.1)\nRequirement already satisfied: pytz>=2017.2 in /opt/conda/envs/Python-3.7-main/lib/python3.7/site-packages (from pandas>=0.24.0->geopandas) (2020.1)\nRequirement already satisfied: click>=4.0 in /opt/conda/envs/Python-3.7-main/lib/python3.7/site-packages (from fiona>=1.8->geopandas) (7.1.2)\nRequirement already satisfied: attrs>=17 in /opt/conda/envs/Python-3.7-main/lib/python3.7/site-packages (from fiona>=1.8->geopandas) (19.3.0)\nCollecting click-plugins>=1.0\n  Downloading click_plugins-1.1.1-py2.py3-none-any.whl (7.5 kB)\nRequirement already satisfied: six>=1.7 in /opt/conda/envs/Python-3.7-main/lib/python3.7/site-packages (from fiona>=1.8->geopandas) (1.15.0)\nRequirement already satisfied: certifi in /opt/conda/envs/Python-3.7-main/lib/python3.7/site-packages (from fiona>=1.8->geopandas) (2021.5.30)\nCollecting munch\n  Downloading munch-2.5.0-py2.py3-none-any.whl (10 kB)\nCollecting cligj>=0.5\n  Downloading cligj-0.7.2-py3-none-any.whl (7.1 kB)\nRequirement already satisfied: setuptools in /opt/conda/envs/Python-3.7-main/lib/python3.7/site-packages (from fiona>=1.8->geopandas) (47.3.1.post20200622)\nInstalling collected packages: shapely, click-plugins, munch, cligj, fiona, pyproj, geopandas\nSuccessfully installed click-plugins-1.1.1 cligj-0.7.2 fiona-1.8.20 geopandas-0.9.0 munch-2.5.0 pyproj-3.1.0 shapely-1.7.1\n/opt/conda/envs/Python-3.7-main/lib/python3.7/site-packages/secretstorage/dhcrypto.py:16: CryptographyDeprecationWarning: int_from_bytes is deprecated, use int.from_bytes instead\n  from cryptography.utils import int_from_bytes\n/opt/conda/envs/Python-3.7-main/lib/python3.7/site-packages/secretstorage/util.py:25: CryptographyDeprecationWarning: int_from_bytes is deprecated, use int.from_bytes instead\n  from cryptography.utils import int_from_bytes\nCollecting pgeocode\n  Downloading pgeocode-0.3.0-py3-none-any.whl (8.5 kB)\nRequirement already satisfied: pandas in /opt/conda/envs/Python-3.7-main/lib/python3.7/site-packages (from pgeocode) (1.0.5)\nRequirement already satisfied: numpy in /opt/conda/envs/Python-3.7-main/lib/python3.7/site-packages (from pgeocode) (1.18.5)\nRequirement already satisfied: requests in /opt/conda/envs/Python-3.7-main/lib/python3.7/site-packages (from pgeocode) (2.24.0)\nRequirement already satisfied: python-dateutil>=2.6.1 in /opt/conda/envs/Python-3.7-main/lib/python3.7/site-packages (from pandas->pgeocode) (2.8.1)\nRequirement already satisfied: pytz>=2017.2 in /opt/conda/envs/Python-3.7-main/lib/python3.7/site-packages (from pandas->pgeocode) (2020.1)\nRequirement already satisfied: certifi>=2017.4.17 in /opt/conda/envs/Python-3.7-main/lib/python3.7/site-packages (from requests->pgeocode) (2021.5.30)\nRequirement already satisfied: idna<3,>=2.5 in /opt/conda/envs/Python-3.7-main/lib/python3.7/site-packages (from requests->pgeocode) (2.9)\nRequirement already satisfied: chardet<4,>=3.0.2 in /opt/conda/envs/Python-3.7-main/lib/python3.7/site-packages (from requests->pgeocode) (3.0.4)\nRequirement already satisfied: urllib3!=1.25.0,!=1.25.1,<1.26,>=1.21.1 in /opt/conda/envs/Python-3.7-main/lib/python3.7/site-packages (from requests->pgeocode) (1.25.9)\nRequirement already satisfied: six>=1.5 in /opt/conda/envs/Python-3.7-main/lib/python3.7/site-packages (from python-dateutil>=2.6.1->pandas->pgeocode) (1.15.0)\nInstalling collected packages: pgeocode\nSuccessfully installed pgeocode-0.3.0\nWorkbench enviroment Ready !!!\n"
                }
            ],
            "source": "#********* Framework and Liberays *****************\n#******** Data Handling **************\nfrom bs4 import BeautifulSoup as bfs # Beatifulsoup for Scraping\nimport numpy as np # library to handle data in a vectorized manner\nimport pandas as pd # library for data analsysis\npd.set_option('display.max_columns', None)\npd.set_option('display.max_rows', None)\nfrom pandas.io.json import json_normalize # tranform JSON file into a pandas dataframe\n\n#*** Data Analysis tool ********\n# import k-means from clustering stage\nfrom sklearn.cluster import KMeans\n!pip install folium # uncomment this line if you haven't completed the Foursquare API lab\nimport folium # map rendering library\n\n# Matplotlib and associated plotting modules\nimport matplotlib.cm as cm\nimport matplotlib.colors as colors\n\nimport requests # library to handle requests\nimport time #for delays\n\n#****** Geomatric server\n!pip install geocoder\n!pip install geopy\n!pip install geopandas\n!pip install pgeocode #the google map decoder\n# Installed liberay\n\nimport geocoder # import geocoder\nfrom geopy.geocoders import Nominatim\nfrom geopy.extra.rate_limiter import RateLimiter\nimport pgeocode as pgo\n\n\n\nprint(\"Workbench enviroment Ready !!!\")"
        },
        {
            "cell_type": "markdown",
            "metadata": {},
            "source": "### Step One: Data Collection and Preparetion"
        },
        {
            "cell_type": "code",
            "execution_count": 5,
            "metadata": {},
            "outputs": [],
            "source": "\n#********* The Data Source URL ***********\nurl_1 = \"https://en.wikipedia.org/wiki/Demographics_of_Auckland # Demographics of Auckland\"\nurl_2 = \"https://en.wikipedia.org/wiki/List_of_suburbs_of_Auckland  # List of Suburd Auckland\" "
        },
        {
            "cell_type": "code",
            "execution_count": null,
            "metadata": {},
            "outputs": [],
            "source": ""
        }
    ],
    "metadata": {
        "kernelspec": {
            "display_name": "Python 3.7",
            "language": "python",
            "name": "python3"
        },
        "language_info": {
            "codemirror_mode": {
                "name": "ipython",
                "version": 3
            },
            "file_extension": ".py",
            "mimetype": "text/x-python",
            "name": "python",
            "nbconvert_exporter": "python",
            "pygments_lexer": "ipython3",
            "version": "3.7.10"
        }
    },
    "nbformat": 4,
    "nbformat_minor": 1
}